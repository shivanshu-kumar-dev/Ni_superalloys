{
  "nbformat": 4,
  "nbformat_minor": 0,
  "metadata": {
    "colab": {
      "provenance": []
    },
    "kernelspec": {
      "name": "python3",
      "display_name": "Python 3"
    },
    "language_info": {
      "name": "python"
    }
  },
  "cells": [
    {
      "cell_type": "code",
      "execution_count": 1,
      "metadata": {
        "id": "-ZwNKtdhXBbU"
      },
      "outputs": [],
      "source": [
        "import numpy as np\n",
        "import pandas as pd\n",
        "from sklearn.preprocessing import MinMaxScaler, StandardScaler\n",
        "from sklearn.model_selection import LeaveOneOut, train_test_split\n",
        "from sklearn.model_selection import KFold\n",
        "from sklearn.metrics import mean_squared_error, r2_score\n",
        "import math\n"
      ]
    },
    {
      "cell_type": "code",
      "source": [
        "def gaussian_model():\n",
        "    from sklearn.gaussian_process import GaussianProcessRegressor\n",
        "    from sklearn.gaussian_process.kernels import RationalQuadratic, WhiteKernel, RBF\n",
        "    from sklearn.gaussian_process.kernels import ConstantKernel as C\n",
        "    # parameter = \"C(1, (1e-4, 10000)) * RationalQuadratic(alpha=0.01, length_scale_bounds=(1e-5, 20))\"\n",
        "    parameter = 'gaussian_model'\n",
        "    # kernel_5 = C(1, (1e-4, 1)) * RationalQuadratic(alpha=0.1, length_scale_bounds=(0.01, 2000))\n",
        "    kernel = C(1, (0.1, 10)) * RationalQuadratic(alpha=0.01, length_scale_bounds=(0.1, 1500))\n",
        "    model = GaussianProcessRegressor(kernel=kernel, alpha=0.008, n_restarts_optimizer=20)\n",
        "    return model, parameter"
      ],
      "metadata": {
        "id": "PYN8ehKRYCxv"
      },
      "execution_count": null,
      "outputs": []
    },
    {
      "cell_type": "code",
      "source": [
        "def svr_model():\n",
        "    #SVR model\n",
        "    from sklearn.svm import SVR\n",
        "    parameter = ' svr_model '\n",
        "    model = SVR(kernel='rbf', C=1400, gamma='auto')\n",
        "    return model, parameter"
      ],
      "metadata": {
        "id": "6l4UdaBjYGdo"
      },
      "execution_count": null,
      "outputs": []
    },
    {
      "cell_type": "code",
      "source": [
        "def random_forest_model():\n",
        "    #random forest model\n",
        "    from sklearn.ensemble import RandomForestRegressor\n",
        "    parameter = ' RandomForest_model '\n",
        "    # model = RandomForestRegressor(n_estimators=15, max_depth=4, criterion='mae', bootstrap=True)\n",
        "    model = RandomForestRegressor(n_estimators=15, max_depth=6, criterion='mae', bootstrap=True)\n",
        "    return model, parameter"
      ],
      "metadata": {
        "id": "BUYg_FfXYKKk"
      },
      "execution_count": null,
      "outputs": []
    },
    {
      "cell_type": "code",
      "source": [
        "def pre_progressing(original_data):\n",
        "    #Normalization X: Max-Min normalization Y :log scale\n",
        "    data = original_data[:, :-1]\n",
        "    target = original_data[:, -1]\n",
        "    normalize_data = MinMaxScaler().fit_transform(data)\n",
        "    normalize_target = np.log(target)\n",
        "    return normalize_data, normalize_target"
      ],
      "metadata": {
        "id": "P-FJzZ8_YRn6"
      },
      "execution_count": null,
      "outputs": []
    },
    {
      "cell_type": "code",
      "source": [
        "def linear_model():\n",
        "    from sklearn.linear_model import LinearRegression\n",
        "    parameter = 'Linear_model'\n",
        "    model = LinearRegression()\n",
        "    return model, parameter"
      ],
      "metadata": {
        "id": "eYCERzmaYX-e"
      },
      "execution_count": null,
      "outputs": []
    },
    {
      "cell_type": "code",
      "source": [
        "def lasso_regression():\n",
        "    from sklearn.linear_model import Ridge, Lasso\n",
        "    parameter = 'Lasso_model'\n",
        "    model = Lasso(alpha=0.5)  # alpha = 0.1,,0.5,1.0\n",
        "    return model, parameter\n",
        "\n",
        "\n",
        "def lasso_regression_dump():\n",
        "    from sklearn.linear_model import Ridge, Lasso\n",
        "    parameter = 'Lasso_model'\n",
        "    model = Lasso(alpha=0.01)  # alpha = 0.1,,0.5,1.0\n",
        "    return model, parameter"
      ],
      "metadata": {
        "id": "jSueWR56ZPpd"
      },
      "execution_count": null,
      "outputs": []
    },
    {
      "cell_type": "code",
      "source": [
        "def elastic_model():\n",
        "    from sklearn.linear_model import ElasticNet"
      ],
      "metadata": {
        "id": "1rawEJFtZuQU"
      },
      "execution_count": null,
      "outputs": []
    }
  ]
}