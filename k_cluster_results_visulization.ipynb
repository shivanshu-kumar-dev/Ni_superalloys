{
  "nbformat": 4,
  "nbformat_minor": 0,
  "metadata": {
    "colab": {
      "provenance": []
    },
    "kernelspec": {
      "name": "python3",
      "display_name": "Python 3"
    },
    "language_info": {
      "name": "python"
    }
  },
  "cells": [
    {
      "cell_type": "code",
      "execution_count": null,
      "metadata": {
        "id": "DpXRpKVKWcPh"
      },
      "outputs": [],
      "source": [
        "import pandas as pd\n",
        "from sklearn.preprocessing import MinMaxScaler\n",
        "from sklearn.preprocessing import StandardScaler\n",
        "from sklearn.decomposition import PCA\n",
        "import matplotlib.pyplot as plt\n",
        "import numpy as np\n",
        "\n",
        "# Load data from Excel file\n",
        "df = pd.read_excel(\"data_files/multi_scale_samples_cluster_labels.xlsx\")\n",
        "\n",
        "# Extract data and labels\n",
        "data_array = df.values\n",
        "train_data, label = data_array[:, 0:28], data_array[:, -1]\n",
        "\n",
        "# Normalize data using MinMaxScaler\n",
        "train_data = MinMaxScaler().fit_transform(train_data)\n",
        "\n",
        "# Perform PCA for dimensionality reduction\n",
        "pca = PCA(n_components=2)\n",
        "trans_data = pca.fit_transform(train_data)\n",
        "\n",
        "# Print transformed data and explained variance ratio\n",
        "print(trans_data)\n",
        "print(pca.explained_variance_ratio_)\n",
        "\n",
        "# Combine transformed data and labels\n",
        "new_data = np.column_stack((trans_data, label))\n",
        "print(\"Transformed data:\", new_data)\n",
        "\n",
        "# Save transformed data to Excel file\n",
        "df = pd.DataFrame(new_data)\n",
        "df.to_excel(\"ClusterVisualization.xlsx\")\n",
        "\n",
        "# Create scatter plot with different colors for each cluster\n",
        "for row_index in range(len(trans_data)):\n",
        "    row_data = trans_data[row_index]\n",
        "    if label[row_index] == 0:\n",
        "        plt.scatter(row_data[0], row_data[1], c='#FF00FF')  # Magenta\n",
        "    elif label[row_index] == 1:\n",
        "        plt.scatter(row_data[0], row_data[1], c='r')  # Red\n",
        "    elif label[row_index] == 2:\n",
        "        plt.scatter(row_data[0], row_data[1], c='g')  # Green\n",
        "    elif label[row_index] == 3:\n",
        "        plt.scatter(row_data[0], row_data[1], c='b')  # Blue\n",
        "    elif label[row_index] == 4:\n",
        "        plt.scatter(row_data[0], row_data[1], c='#696969')  # Dark Gray\n",
        "    elif label[row_index] == 5:\n",
        "        plt.scatter(row_data[0], row_data[1], c='#FFA500')  # Orange\n",
        "    elif label[row_index] == 6:\n",
        "        plt.scatter(row_data[0], row_data[1], c='#00BFFF')  # Deep Sky Blue\n",
        "    else:\n",
        "        plt.scatter(row_data[0], row_data[1], c='#7CFC00')  # Lawn Green\n",
        "\n",
        "plt.show()\n"
      ]
    },
    {
      "cell_type": "code",
      "source": [],
      "metadata": {
        "id": "_NlLS9q8WyHm"
      },
      "execution_count": null,
      "outputs": []
    }
  ]
}