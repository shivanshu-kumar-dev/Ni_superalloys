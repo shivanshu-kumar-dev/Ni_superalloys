{
  "nbformat": 4,
  "nbformat_minor": 0,
  "metadata": {
    "colab": {
      "provenance": []
    },
    "kernelspec": {
      "name": "python3",
      "display_name": "Python 3"
    },
    "language_info": {
      "name": "python"
    }
  },
  "cells": [
    {
      "cell_type": "code",
      "execution_count": null,
      "metadata": {
        "id": "xBYLDfhUaH53"
      },
      "outputs": [],
      "source": [
        "import pandas as pd\n",
        "from sklearn.ensemble import RandomForestRegressor\n",
        "from sklearn.preprocessing import MinMaxScaler, StandardScaler\n",
        "# from sklearn.externals import joblib\n",
        "import numpy as np"
      ]
    },
    {
      "cell_type": "code",
      "source": [
        "# Load data\n",
        "df_original = pd.read_excel(\"creep_data.xlsx\")\n",
        "original_data = df_original.values[:, 1:-1]"
      ],
      "metadata": {
        "id": "Thc-yb1IaqKn"
      },
      "execution_count": null,
      "outputs": []
    },
    {
      "cell_type": "code",
      "source": [
        "# Get original data min and max values\n",
        "original_min = np.min(original_data, axis=0)\n",
        "original_max = np.max(original_data, axis=0)"
      ],
      "metadata": {
        "id": "xwJWjl7JaqaX"
      },
      "execution_count": null,
      "outputs": []
    },
    {
      "cell_type": "code",
      "source": [
        "# Calculate cluster centers\n",
        "cluster_centers = []\n",
        "for index in range(8):\n",
        "    cluster_data = pd.read_excel(\"data_files/multi-factors_clusters_912.xls\", sheetname=\"cluster_\" + str(index))\n",
        "    cluster_dataX = cluster_data.values[:, 1:28]\n",
        "    normalize_data = [(row - original_min) / (original_max - original_min) for row in cluster_dataX]\n",
        "    cluster_center = np.mean(normalize_data, axis=0)\n",
        "    cluster_centers.append(cluster_center)\n",
        "cluster_centers = np.array(cluster_centers)"
      ],
      "metadata": {
        "id": "QEUO4qBIaqcQ"
      },
      "execution_count": null,
      "outputs": []
    },
    {
      "cell_type": "code",
      "source": [
        "# Load validation data\n",
        "df = pd.read_excel(\"test_data_file/8-new validated instance_revison.xlsx\")\n",
        "validation_data = df.values\n",
        "validation_dataX, validation_targetY = validation_data[:, :-1], np.log(validation_data[:, -1])"
      ],
      "metadata": {
        "id": "VcCyLQq-aqgd"
      },
      "execution_count": null,
      "outputs": []
    },
    {
      "cell_type": "code",
      "source": [
        "# Preprocess validation data\n",
        "data, target = (validation_dataX[7:8] - original_min) / (original_max - original_min), validation_targetY[7:8]\n",
        "\n",
        "# Calculate distances to cluster centers\n",
        "cluster_distance = [np.sqrt(np.sum((data - value) ** 2, axis=1)) for value in cluster_centers]\n",
        "cluster_dis = [dis[0] for dis in cluster_distance]\n",
        "cluster_index = np.argmin(cluster_distance)"
      ],
      "metadata": {
        "id": "rFXM6rAKaqie"
      },
      "execution_count": null,
      "outputs": []
    },
    {
      "cell_type": "code",
      "source": [
        "# Load model for the assigned cluster\n",
        "model_name = \"cluster_\" + str(cluster_index + 1) + \"SVR.model\"\n",
        "clf = joblib.load(\"model_for_custers/\" + model_name)\n",
        "\n",
        "# Predict creep rupture life\n",
        "predicted_life = np.exp(clf.predict(data))[0]"
      ],
      "metadata": {
        "id": "NCYwbBHQaql0"
      },
      "execution_count": null,
      "outputs": []
    },
    {
      "cell_type": "code",
      "source": [
        "# Print results\n",
        "print(\"True creep rupture life:\", np.exp(target)[0])\n",
        "print(\"Predicted creep rupture life:\", predicted_life)"
      ],
      "metadata": {
        "id": "6fHcErKkaqnu"
      },
      "execution_count": null,
      "outputs": []
    },
    {
      "cell_type": "code",
      "source": [],
      "metadata": {
        "id": "7nviE81laqrV"
      },
      "execution_count": null,
      "outputs": []
    }
  ]
}